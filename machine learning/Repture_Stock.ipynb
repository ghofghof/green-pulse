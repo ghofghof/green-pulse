{
 "cells": [
  {
   "cell_type": "markdown",
   "id": "586bb5f3-e476-452c-8da9-2337d30e3507",
   "metadata": {},
   "source": [
    "# **Classification Objective**\r\n",
    "## 🎯 Objective:\r\n",
    "### In this project, the objective is to classify stocks based on their status (Recovery/Soon to be Recovered/Available)."
   ]
  },
  {
   "cell_type": "markdown",
   "id": "d1b27090-74e4-4a6b-8f46-97c66f71e88f",
   "metadata": {},
   "source": [
    "## Importation de Data (SSMS)"
   ]
  },
  {
   "cell_type": "code",
   "execution_count": 44,
   "id": "07ee605f-706c-4afa-950d-8472af90108a",
   "metadata": {},
   "outputs": [
    {
     "name": "stderr",
     "output_type": "stream",
     "text": [
      "C:\\Users\\DELL\\AppData\\Local\\Temp\\ipykernel_12816\\3746600890.py:37: UserWarning: pandas only supports SQLAlchemy connectable (engine/connection) or database string URI or sqlite3 DBAPI2 connection. Other DBAPI2 objects are not tested. Please consider using SQLAlchemy.\n",
      "  df = pd.read_sql(query, conn)\n"
     ]
    },
    {
     "name": "stdout",
     "output_type": "stream",
     "text": [
      "   Total_Stock  Input_stock  Output_Stock    FullDate Day Month  Year  \\\n",
      "0        593.0           49             6  2024-07-09  09    07  2024   \n",
      "1        593.0           49             6  2024-07-09  09    07  2024   \n",
      "2        593.0           49             6  2024-07-09  09    07  2024   \n",
      "3        593.0           49             6  2024-07-09  09    07  2024   \n",
      "4        593.0           49             6  2024-07-09  09    07  2024   \n",
      "\n",
      "            Supplier_Name  \n",
      "0  Fournitures Voie Verte  \n",
      "1  Fournitures Voie Verte  \n",
      "2  Fournitures Voie Verte  \n",
      "3  Fournitures Voie Verte  \n",
      "4  Fournitures Voie Verte  \n"
     ]
    }
   ],
   "source": [
    "import pyodbc\n",
    "import pandas as pd\n",
    "\n",
    "# Connexion à la base de données SQL Server\n",
    "conn = pyodbc.connect(\n",
    "    'DRIVER={SQL Server};'\n",
    "    'SERVER=DESKTOP-STG70TI\\\\SQLSERVER;'  # Remplacez par votre serveur SQL\n",
    "    'DATABASE=DW_SAP_Co2;'  # Remplacez par votre base de données\n",
    "    'Trusted_Connection=yes;'\n",
    ")\n",
    "\n",
    "# Requête SQL pour faire les jointures entre les tables\n",
    "query = \"\"\"\n",
    "SELECT\n",
    "    F.[Total_Stock],\n",
    "    F.[Input_stock],\n",
    "    F.[Output_Stock],\n",
    "   \n",
    "  \n",
    "    D.[FullDate],\n",
    "    D.[Day],\n",
    "    D.[Month],\n",
    "    D.[Year],\n",
    "    S.[Supplier_Name]\n",
    "FROM [DW_SAP_Co2].[dbo].[Fact_MM_PM] F\n",
    "JOIN [DW_SAP_Co2].[dbo].[Dim_Material] M\n",
    "    ON F.Fk_Material = M.Pk_Material\n",
    "JOIN [DW_SAP_Co2].[dbo].[Fact_Co2_Emissions] COE\n",
    "    ON M.Pk_Material = COE.Fk_Material\n",
    "JOIN [DW_SAP_Co2].[dbo].[Dim_Date] D\n",
    "    ON COE.Fk_Date = D.Pk_Date\n",
    "JOIN [DW_SAP_Co2].[dbo].[Dim_Supplier] S\n",
    "    ON COE.Fk_Supplier = S.Pk_Supplier\n",
    "\"\"\"\n",
    "\n",
    "# Exécution de la requête SQL\n",
    "df = pd.read_sql(query, conn)\n",
    "\n",
    "# Affichage des résultats sans doublons\n",
    "print(df.head())\n",
    "# Fermeture de la connexion\n",
    "conn.close()\n"
   ]
  },
  {
   "cell_type": "markdown",
   "id": "b21039fe-730b-484f-8e08-78685ac6612c",
   "metadata": {},
   "source": [
    "## Remove duplicators"
   ]
  },
  {
   "cell_type": "code",
   "execution_count": 45,
   "id": "677b9dba-52a3-4187-aab3-6982d464044d",
   "metadata": {},
   "outputs": [
    {
     "name": "stdout",
     "output_type": "stream",
     "text": [
      "    Total_Stock  Input_stock  Output_Stock    FullDate Day Month  Year  \\\n",
      "0         593.0           49             6  2024-07-09  09    07  2024   \n",
      "6         546.0           18             6  2024-07-09  09    07  2024   \n",
      "12        961.0           37            19  2024-07-09  09    07  2024   \n",
      "18        908.0           34            18  2024-07-09  09    07  2024   \n",
      "24        711.0           27             0  2024-07-09  09    07  2024   \n",
      "\n",
      "             Supplier_Name  \n",
      "0   Fournitures Voie Verte  \n",
      "6   Fournitures Voie Verte  \n",
      "12  Fournitures Voie Verte  \n",
      "18  Fournitures Voie Verte  \n",
      "24  Fournitures Voie Verte  \n"
     ]
    }
   ],
   "source": [
    "df_cleaned = df.drop_duplicates()\n",
    "print(df_cleaned.head())"
   ]
  },
  {
   "cell_type": "markdown",
   "id": "ed145b49-552d-4f01-bfe2-f48d34de6835",
   "metadata": {},
   "source": [
    "## Data preparation"
   ]
  },
  {
   "cell_type": "code",
   "execution_count": 46,
   "id": "ba890f16-dbde-4aaf-990f-553c82c76c50",
   "metadata": {},
   "outputs": [
    {
     "name": "stdout",
     "output_type": "stream",
     "text": [
      "    Total_Stock  Input_stock  Output_Stock  Stock_Actual\n",
      "0         593.0           49             6         636.0\n",
      "6         546.0           18             6         558.0\n",
      "12        961.0           37            19         979.0\n",
      "18        908.0           34            18         924.0\n",
      "24        711.0           27             0         738.0\n"
     ]
    },
    {
     "name": "stderr",
     "output_type": "stream",
     "text": [
      "C:\\Users\\DELL\\AppData\\Local\\Temp\\ipykernel_12816\\2696874670.py:2: SettingWithCopyWarning: \n",
      "A value is trying to be set on a copy of a slice from a DataFrame.\n",
      "Try using .loc[row_indexer,col_indexer] = value instead\n",
      "\n",
      "See the caveats in the documentation: https://pandas.pydata.org/pandas-docs/stable/user_guide/indexing.html#returning-a-view-versus-a-copy\n",
      "  df_cleaned['Stock_Actual'] = df_cleaned['Total_Stock'] + df_cleaned['Input_stock'] - df_cleaned['Output_Stock']\n"
     ]
    }
   ],
   "source": [
    "\n",
    "# Calcul de la colonne 'Stock_Actual'\n",
    "df_cleaned['Stock_Actual'] = df_cleaned['Total_Stock'] + df_cleaned['Input_stock'] - df_cleaned['Output_Stock']\n",
    "\n",
    "# Affichage des résultats avec la nouvelle colonne 'Stock_Actual'\n",
    "print(df_cleaned[['Total_Stock', 'Input_stock', 'Output_Stock', 'Stock_Actual']].head())\n"
   ]
  },
  {
   "cell_type": "markdown",
   "id": "1f41076a-89ba-496f-b3d9-4786461e90db",
   "metadata": {},
   "source": [
    "# **Models**"
   ]
  },
  {
   "cell_type": "markdown",
   "id": "bbac5782-d9f1-4712-8fa1-5d780b8c26e4",
   "metadata": {},
   "source": [
    "# Classification Function"
   ]
  },
  {
   "cell_type": "code",
   "execution_count": 47,
   "id": "9449f936-776b-4d5b-b846-081701093646",
   "metadata": {},
   "outputs": [
    {
     "name": "stderr",
     "output_type": "stream",
     "text": [
      "C:\\Users\\DELL\\AppData\\Local\\Temp\\ipykernel_12816\\1172503246.py:16: SettingWithCopyWarning: \n",
      "A value is trying to be set on a copy of a slice from a DataFrame.\n",
      "Try using .loc[row_indexer,col_indexer] = value instead\n",
      "\n",
      "See the caveats in the documentation: https://pandas.pydata.org/pandas-docs/stable/user_guide/indexing.html#returning-a-view-versus-a-copy\n",
      "  df_cleaned['Stock_Status'] = df_cleaned['Stock_Actual'].apply(classify_stock)\n",
      "C:\\Users\\DELL\\AppData\\Local\\Temp\\ipykernel_12816\\1172503246.py:19: SettingWithCopyWarning: \n",
      "A value is trying to be set on a copy of a slice from a DataFrame.\n",
      "Try using .loc[row_indexer,col_indexer] = value instead\n",
      "\n",
      "See the caveats in the documentation: https://pandas.pydata.org/pandas-docs/stable/user_guide/indexing.html#returning-a-view-versus-a-copy\n",
      "  df_cleaned['Stock_Status_Label'] = df_cleaned['Stock_Status'].map({\n"
     ]
    }
   ],
   "source": [
    "import pandas as pd\n",
    "from sklearn.model_selection import train_test_split\n",
    "from sklearn.ensemble import RandomForestClassifier\n",
    "from sklearn.metrics import classification_report, accuracy_score\n",
    "\n",
    "\n",
    "def classify_stock(stock):\n",
    "    if stock <= 0:\n",
    "        return 'Out of stock'\n",
    "    elif 0 < stock < 20:\n",
    "        return 'Stock will be sold out soon'\n",
    "    else:\n",
    "        return 'Stock available'\n",
    "\n",
    "# Appliquer la fonction de classification sur la colonne 'Stock_Actual'\n",
    "df_cleaned['Stock_Status'] = df_cleaned['Stock_Actual'].apply(classify_stock)\n",
    "\n",
    "# Convertir les labels en valeurs numériques\n",
    "df_cleaned['Stock_Status_Label'] = df_cleaned['Stock_Status'].map({\n",
    "    'Out of stock': 0,\n",
    "    'Stock will be sold out soon': 1,\n",
    "    'Stock available': 2\n",
    "})\n",
    "\n",
    "# Séparer les features (X) et la cible (y)\n",
    "X = df_cleaned[['Total_Stock', 'Input_stock', 'Output_Stock']]  # Features\n",
    "y = df_cleaned['Stock_Status_Label']  # Target\n"
   ]
  },
  {
   "cell_type": "markdown",
   "id": "7f429ffc-9119-4c77-8287-f3431c217196",
   "metadata": {},
   "source": [
    "# **Random Forest Classifier Model**\r\n",
    "#### The Random Forest Classifier is robust and accurate, reducing the risk of overfitting. It efficiently handles missing and noisy data without requiring complex preprocessing. This model offers excellent ability to assess variable importance and works well with multiclass data. Easy to use, it provides reliable predictions with good results right from the start."
   ]
  },
  {
   "cell_type": "markdown",
   "id": "3dfccc69-9ab6-4042-b610-3051c9feebf5",
   "metadata": {},
   "source": [
    "## Split the Train and Test data"
   ]
  },
  {
   "cell_type": "code",
   "execution_count": 48,
   "id": "8281314d-37eb-41fc-8ed0-c9de7e83a167",
   "metadata": {},
   "outputs": [],
   "source": [
    "#(80% train, 20% test)\n",
    "X_train, X_test, y_train, y_test = train_test_split(X, y, test_size=0.2, random_state=42)\n"
   ]
  },
  {
   "cell_type": "markdown",
   "id": "363ec3a8-3285-455c-8f1a-c1874d49ea84",
   "metadata": {},
   "source": [
    "## Create a classification model (Random Forest) Train the model"
   ]
  },
  {
   "cell_type": "code",
   "execution_count": 49,
   "id": "a14aaf26-afeb-4034-bd25-a887b666a2f1",
   "metadata": {},
   "outputs": [],
   "source": [
    "\n",
    "model = RandomForestClassifier(n_estimators=100, random_state=42)\n",
    "\n",
    "\n",
    "model.fit(X_train, y_train)\n",
    "\n",
    "# Prédictions sur le jeu de test\n",
    "y_pred = model.predict(X_test)\n"
   ]
  },
  {
   "cell_type": "markdown",
   "id": "20d41680-8c8d-463e-8812-c0b8ad47858c",
   "metadata": {},
   "source": [
    "## Metrics"
   ]
  },
  {
   "cell_type": "code",
   "execution_count": 50,
   "id": "658d5f5a-cf64-4c33-97f9-5eae949df9ae",
   "metadata": {},
   "outputs": [
    {
     "name": "stdout",
     "output_type": "stream",
     "text": [
      "Classification Report:\n",
      "              precision    recall  f1-score   support\n",
      "\n",
      "           0       1.00      0.25      0.40         4\n",
      "           1       0.00      0.00      0.00         1\n",
      "           2       0.92      1.00      0.96        49\n",
      "\n",
      "    accuracy                           0.93        54\n",
      "   macro avg       0.64      0.42      0.45        54\n",
      "weighted avg       0.91      0.93      0.90        54\n",
      "\n",
      "Accuracy Score: 0.9259259259259259\n"
     ]
    },
    {
     "name": "stderr",
     "output_type": "stream",
     "text": [
      "C:\\Users\\DELL\\anaconda3\\Lib\\site-packages\\sklearn\\metrics\\_classification.py:1509: UndefinedMetricWarning: Precision is ill-defined and being set to 0.0 in labels with no predicted samples. Use `zero_division` parameter to control this behavior.\n",
      "  _warn_prf(average, modifier, f\"{metric.capitalize()} is\", len(result))\n",
      "C:\\Users\\DELL\\anaconda3\\Lib\\site-packages\\sklearn\\metrics\\_classification.py:1509: UndefinedMetricWarning: Precision is ill-defined and being set to 0.0 in labels with no predicted samples. Use `zero_division` parameter to control this behavior.\n",
      "  _warn_prf(average, modifier, f\"{metric.capitalize()} is\", len(result))\n",
      "C:\\Users\\DELL\\anaconda3\\Lib\\site-packages\\sklearn\\metrics\\_classification.py:1509: UndefinedMetricWarning: Precision is ill-defined and being set to 0.0 in labels with no predicted samples. Use `zero_division` parameter to control this behavior.\n",
      "  _warn_prf(average, modifier, f\"{metric.capitalize()} is\", len(result))\n"
     ]
    }
   ],
   "source": [
    "print(\"Classification Report:\")\n",
    "print(classification_report(y_test, y_pred))\n",
    "print(\"Accuracy Score:\", accuracy_score(y_test, y_pred))\n"
   ]
  },
  {
   "cell_type": "markdown",
   "id": "7c056e3a-5485-4da6-a177-a8f431651807",
   "metadata": {},
   "source": [
    "# **Gradient Boosting Classifier Model**\r\n",
    "#### The Gradient Boosting Classifier combines multiple decision trees to correct errors and gradually improve accuracy. It excels on complex and nonlinear data, delivering highly accurate results. However, it can be sensitive to noise and requires fine-tuning of hyperparameters to avoid overfitting."
   ]
  },
  {
   "cell_type": "markdown",
   "id": "337db9c9-0c59-4a87-ba51-5cec27399f26",
   "metadata": {},
   "source": [
    "## Create a model and train it"
   ]
  },
  {
   "cell_type": "code",
   "execution_count": 52,
   "id": "84c0f41b-6b4a-493e-8785-ab616dda0a9e",
   "metadata": {},
   "outputs": [],
   "source": [
    "from sklearn.ensemble import GradientBoostingClassifier\n",
    "from sklearn.metrics import classification_report, accuracy_score\n",
    "\n",
    "\n",
    "gb_model = GradientBoostingClassifier(n_estimators=100, random_state=42)\n",
    "\n",
    "\n",
    "gb_model.fit(X_train, y_train)\n",
    "\n",
    "# Prédictions sur le jeu de test\n",
    "y_pred_gb = gb_model.predict(X_test)\n"
   ]
  },
  {
   "cell_type": "markdown",
   "id": "4489db4f-a497-4ce6-9980-2dbaeb589cfb",
   "metadata": {},
   "source": [
    "## Metrics"
   ]
  },
  {
   "cell_type": "code",
   "execution_count": 53,
   "id": "eb827dd3-7299-4aa3-97f9-d6a2d9864675",
   "metadata": {},
   "outputs": [
    {
     "name": "stdout",
     "output_type": "stream",
     "text": [
      "Classification Report (Gradient Boosting):\n",
      "              precision    recall  f1-score   support\n",
      "\n",
      "           0       1.00      0.75      0.86         4\n",
      "           1       0.00      0.00      0.00         1\n",
      "           2       0.96      1.00      0.98        49\n",
      "\n",
      "    accuracy                           0.96        54\n",
      "   macro avg       0.65      0.58      0.61        54\n",
      "weighted avg       0.95      0.96      0.95        54\n",
      "\n",
      "Accuracy Score (Gradient Boosting): 0.9629629629629629\n"
     ]
    },
    {
     "name": "stderr",
     "output_type": "stream",
     "text": [
      "C:\\Users\\DELL\\anaconda3\\Lib\\site-packages\\sklearn\\metrics\\_classification.py:1509: UndefinedMetricWarning: Precision is ill-defined and being set to 0.0 in labels with no predicted samples. Use `zero_division` parameter to control this behavior.\n",
      "  _warn_prf(average, modifier, f\"{metric.capitalize()} is\", len(result))\n",
      "C:\\Users\\DELL\\anaconda3\\Lib\\site-packages\\sklearn\\metrics\\_classification.py:1509: UndefinedMetricWarning: Precision is ill-defined and being set to 0.0 in labels with no predicted samples. Use `zero_division` parameter to control this behavior.\n",
      "  _warn_prf(average, modifier, f\"{metric.capitalize()} is\", len(result))\n",
      "C:\\Users\\DELL\\anaconda3\\Lib\\site-packages\\sklearn\\metrics\\_classification.py:1509: UndefinedMetricWarning: Precision is ill-defined and being set to 0.0 in labels with no predicted samples. Use `zero_division` parameter to control this behavior.\n",
      "  _warn_prf(average, modifier, f\"{metric.capitalize()} is\", len(result))\n"
     ]
    }
   ],
   "source": [
    "\n",
    "# Évaluation du modèle\n",
    "print(\"Classification Report (Gradient Boosting):\")\n",
    "print(classification_report(y_test, y_pred_gb))\n",
    "print(\"Accuracy Score (Gradient Boosting):\", accuracy_score(y_test, y_pred_gb))\n"
   ]
  },
  {
   "cell_type": "markdown",
   "id": "a8e6fb60-a9f2-49b4-af21-fcf859564a06",
   "metadata": {},
   "source": [
    "# **Naive Bayes Model**\r\n",
    "#### Naive Bayes is a probabilistic classification model based on the assumption of feature independence. It is fast, simple, and effective for data where the relationships between variables are assumed to be independent. Although it is generally less complex, it can provide good results, especially for datasets with well-separated classes."
   ]
  },
  {
   "cell_type": "markdown",
   "id": "757ab84a-23df-42ba-9661-cb5a727ef427",
   "metadata": {},
   "source": [
    "## Create a model and train it"
   ]
  },
  {
   "cell_type": "code",
   "execution_count": 54,
   "id": "0d994487-c415-4b68-9b76-3207567eb9a9",
   "metadata": {},
   "outputs": [],
   "source": [
    "from sklearn.naive_bayes import GaussianNB\n",
    "from sklearn.metrics import classification_report, accuracy_score\n",
    "\n",
    "\n",
    "nb_model = GaussianNB()\n",
    "\n",
    "\n",
    "nb_model.fit(X_train, y_train)\n",
    "\n",
    "# Prédictions sur le jeu de test\n",
    "y_pred_nb = nb_model.predict(X_test)\n",
    "\n"
   ]
  },
  {
   "cell_type": "markdown",
   "id": "56e777ba-e859-4dc2-9ac2-0eae884f29d2",
   "metadata": {},
   "source": [
    "## Metrics"
   ]
  },
  {
   "cell_type": "code",
   "execution_count": 55,
   "id": "0dd2d2d8-3644-490f-b65e-113a166d03bb",
   "metadata": {},
   "outputs": [
    {
     "name": "stdout",
     "output_type": "stream",
     "text": [
      "Classification Report (Naive Bayes):\n",
      "              precision    recall  f1-score   support\n",
      "\n",
      "           0       0.00      0.00      0.00         4\n",
      "           1       0.00      0.00      0.00         1\n",
      "           2       0.91      1.00      0.95        49\n",
      "\n",
      "    accuracy                           0.91        54\n",
      "   macro avg       0.30      0.33      0.32        54\n",
      "weighted avg       0.82      0.91      0.86        54\n",
      "\n",
      "Accuracy Score (Naive Bayes): 0.9074074074074074\n"
     ]
    },
    {
     "name": "stderr",
     "output_type": "stream",
     "text": [
      "C:\\Users\\DELL\\anaconda3\\Lib\\site-packages\\sklearn\\metrics\\_classification.py:1509: UndefinedMetricWarning: Precision is ill-defined and being set to 0.0 in labels with no predicted samples. Use `zero_division` parameter to control this behavior.\n",
      "  _warn_prf(average, modifier, f\"{metric.capitalize()} is\", len(result))\n",
      "C:\\Users\\DELL\\anaconda3\\Lib\\site-packages\\sklearn\\metrics\\_classification.py:1509: UndefinedMetricWarning: Precision is ill-defined and being set to 0.0 in labels with no predicted samples. Use `zero_division` parameter to control this behavior.\n",
      "  _warn_prf(average, modifier, f\"{metric.capitalize()} is\", len(result))\n",
      "C:\\Users\\DELL\\anaconda3\\Lib\\site-packages\\sklearn\\metrics\\_classification.py:1509: UndefinedMetricWarning: Precision is ill-defined and being set to 0.0 in labels with no predicted samples. Use `zero_division` parameter to control this behavior.\n",
      "  _warn_prf(average, modifier, f\"{metric.capitalize()} is\", len(result))\n"
     ]
    }
   ],
   "source": [
    "# Évaluation du modèle\n",
    "print(\"Classification Report (Naive Bayes):\")\n",
    "print(classification_report(y_test, y_pred_nb))\n",
    "print(\"Accuracy Score (Naive Bayes):\", accuracy_score(y_test, y_pred_nb))\n"
   ]
  },
  {
   "cell_type": "markdown",
   "id": "764c38c6-5cc9-4818-bc8c-5975a1bd8210",
   "metadata": {},
   "source": [
    "# **Conclusion and Comparison between models**"
   ]
  },
  {
   "cell_type": "code",
   "execution_count": 65,
   "id": "1739eb3b-602f-4bdc-aff7-a56e23deb4d7",
   "metadata": {},
   "outputs": [
    {
     "data": {
      "image/png": "[encoded data removed]",
      "text/plain": [
       "<Figure size 1000x600 with 1 Axes>"
      ]
     },
     "metadata": {},
     "output_type": "display_data"
    }
   ],
   "source": [
    "import matplotlib.pyplot as plt\n",
    "import pandas as pd\n",
    "\n",
    "# 📊 Données complètes des métriques\n",
    "results = {\n",
    "    \"Random Forest Classifier\": [0.9259],\n",
    "    \"Gradient Boosting Classifier\": [0.9629],\n",
    "    \"Naive Bayes\": [0.9074]\n",
    "}\n",
    "\n",
    "# 🧱 Créer le DataFrame\n",
    "df_scores = pd.DataFrame(\n",
    "    results, \n",
    "    index=[\"Accuracy Score\"]\n",
    ").T\n",
    "\n",
    "# 📈 Création des barplots\n",
    "fig, ax = plt.subplots(figsize=(10, 6))  # Un seul graphique\n",
    "\n",
    "colors = [\"#ff7f0e\", \"#2ca02c\", \"#ddcc6d\"]\n",
    "\n",
    "bars = ax.bar(df_scores.index, df_scores[\"Accuracy Score\"], color=colors)\n",
    "\n",
    "# Ajouter le titre, labels, etc.\n",
    "ax.set_title(\"Comparison between models : Random Forest Classifier vs Gradient Boosting Classifier vs Naive Bayes\", fontsize=16)\n",
    "ax.set_ylabel(\"Accuracy Score\", fontsize=12)\n",
    "ax.set_xlabel(\"Model\", fontsize=12)\n",
    "ax.tick_params(axis='x', rotation=0)\n",
    "\n",
    "# Ajouter les valeurs au-dessus des barres\n",
    "for bar in bars:\n",
    "    height = bar.get_height()\n",
    "    ax.text(bar.get_x() + bar.get_width() / 2, height + abs(height)*0.03,\n",
    "            f'{height:.4f}', ha='center', va='bottom', fontsize=10)\n",
    "\n",
    "# Afficher la grille et ajuster la mise en page\n",
    "ax.grid(True)\n",
    "plt.tight_layout()\n",
    "plt.show()\n"
   ]
  },
  {
   "cell_type": "markdown",
   "id": "db062933-e869-4eeb-ad53-e0d19f77755e",
   "metadata": {},
   "source": [
    "# **Conclusion**\r\n",
    "### The visualization above compares the accuracy scores of three classification models: Random Forest Classifier, Gradient Boosting Classifier, and Naive Bayes. The Gradient Boosting Classifier shows the best performance with a score of 0.9629, followed by the Random Forest Classifier at 0.9259. Naive Bayes achieves a slightly lower score of 0.9074.\r\n",
    "### This comparison highlights the effectiveness of Gradient Boosting for classification in this context, while demonstrating that the other two models also perform well."
   ]
  },
  {
   "cell_type": "code",
   "execution_count": null,
   "id": "e0b1b6f6-5656-47c6-82d7-c7e7e1ba5fb3",
   "metadata": {},
   "outputs": [],
   "source": []
  }
 ],
 "metadata": {
  "kernelspec": {
   "display_name": "Python 3 (ipykernel)",
   "language": "python",
   "name": "python3"
  },
  "language_info": {
   "codemirror_mode": {
    "name": "ipython",
    "version": 3
   },
   "file_extension": ".py",
   "mimetype": "text/x-python",
   "name": "python",
   "nbconvert_exporter": "python",
   "pygments_lexer": "ipython3",
   "version": "3.12.4"
  }
 },
 "nbformat": 4,
 "nbformat_minor": 5
}
